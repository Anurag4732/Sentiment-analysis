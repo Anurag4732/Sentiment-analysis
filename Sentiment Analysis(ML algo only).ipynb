{
 "cells": [
  {
   "cell_type": "code",
   "execution_count": 1,
   "metadata": {},
   "outputs": [],
   "source": [
    "import pandas as pd\n",
    "import seaborn as sns\n",
    "import matplotlib.pyplot as plt\n",
    "import nltk, re, scipy\n",
    "import numpy as np\n",
    "from nltk.corpus import stopwords\n",
    "from sklearn.feature_extraction.text import TfidfVectorizer\n",
    "import nltk\n",
    "from spellchecker import SpellChecker \n",
    "from nltk.corpus import stopwords\n",
    "from sklearn.metrics import f1_score, classification_report, accuracy_score\n",
    "from sklearn.feature_extraction.text import CountVectorizer\n",
    "from sklearn.model_selection import train_test_split\n",
    "from sklearn.ensemble import GradientBoostingClassifier\n",
    "from sklearn.ensemble import RandomForestClassifier\n",
    "from sklearn.metrics import f1_score, confusion_matrix"
   ]
  },
  {
   "cell_type": "code",
   "execution_count": 2,
   "metadata": {},
   "outputs": [
    {
     "data": {
      "text/plain": [
       "(   label                                              tweet\n",
       " 0      0  #fingerprint #pregnancy test https://goo.gl/h1...\n",
       " 1      0  finally a transparant silicon case ^^ thanks t...\n",
       " 2      0  we love this! would you go? #talk #makememorie..., (7920, 2))"
      ]
     },
     "execution_count": 2,
     "metadata": {},
     "output_type": "execute_result"
    }
   ],
   "source": [
    "df = pd.read_csv('C:/Users/Anurag/Downloads/sentiment_data_analytic_vidya.csv').drop('id', axis = 1)\n",
    "df['tweet'] = df['tweet'].map(lambda x : x.lower())\n",
    "df.head(3), df.shape"
   ]
  },
  {
   "cell_type": "code",
   "execution_count": 3,
   "metadata": {},
   "outputs": [],
   "source": [
    "df1 = df.iloc[:4000].copy()"
   ]
  },
  {
   "cell_type": "markdown",
   "metadata": {},
   "source": [
    "### Preprocessing:-"
   ]
  },
  {
   "cell_type": "code",
   "execution_count": 4,
   "metadata": {},
   "outputs": [],
   "source": [
    "def punch(x):\n",
    "    x = re.sub(r\"[-()\\\"#/@;:@*<>{}`ð'+=~£|¦â.!%+-^$?,0-9]\",\"\", x)\n",
    "    x = re.sub('$&@*#', 'vulgar', x) # Mention in data \n",
    "    x = re.sub(r\"(\\d+)(k)\", r\"\\g<1>000\", x) #expand 'k' to '000' eg. 50k to 50000\n",
    "    x = re.sub(\"\\\\n\", ' ', x)\n",
    "    x = re.sub(\"\\W\", ' ', x)\n",
    "    x = re.sub(\"\\'s\", \" \", x) \n",
    "    x = re.sub(\"whats\", \"what is\", x, flags=re.IGNORECASE)\n",
    "    x = re.sub(\"\\'ve\", \"have\", x)\n",
    "    x = re.sub(\"can't\", \"can not\", x)\n",
    "    x = re.sub(\"n't\", \"not\", x)\n",
    "    x = re.sub(\"i'm\", \"i am\", x, flags = re.IGNORECASE)\n",
    "    x = re.sub(\"\\'re\", \"are\", x)\n",
    "    x = re.sub(\"\\'d\", \"would\", x)\n",
    "    x = re.sub(r\"http\\S+\", \"\", str(x))\n",
    "    x = re.sub(\"e\\.g\\.\", \"eg\", x, flags = re.IGNORECASE)\n",
    "    x = re.sub(\"e-mail\", \"email\", x, flags = re.IGNORECASE)\n",
    "    x = re.sub(r\"e - mail\", \"email\", x)\n",
    "    x = re.sub(r\"US\", \"America\", x)\n",
    "    x = re.sub(r\"USA\", \"America\", x)\n",
    "    x = re.sub(r\"us\", \"America\", x)\n",
    "    x = re.sub(r\"usa\", \"America\", x)\n",
    "    x = re.sub(r\"Chinese\", \"China\", x)\n",
    "    x = re.sub(r\"india\", \"India\", x)\n",
    "    x = re.sub(\"im\", \"i am\", x, flags = re.IGNORECASE)\n",
    "    x = re.sub(\"its\", \"it is\", x, flags= re.IGNORECASE)\n",
    "    x = re.sub(\"shes\", \"she is\", x, flags = re.IGNORECASE)\n",
    "    x = re.sub(\"u\", \"you\", x, flags = re.IGNORECASE)\n",
    "    x = re.sub(\"ur\", \"you are\", x, flags = re.IGNORECASE)\n",
    "    x = re.sub(\"wouldnt\", \"would not\", x, flags = re.IGNORECASE)\n",
    "    x = re.sub(\"youve\",  \"you have\", x, flags = re.IGNORECASE)\n",
    "    x = re.sub(r\"\\s{2,}\", \" \", x) # Remove extra space between words\n",
    "    x = x.strip() # Remove extra space from begning and ending\n",
    "    \n",
    "    return(x)\n",
    "\n",
    "df1['tweet'] = df1['tweet'].map(lambda x : punch(x))"
   ]
  },
  {
   "cell_type": "markdown",
   "metadata": {},
   "source": [
    "### Feature Engineering:-"
   ]
  },
  {
   "cell_type": "code",
   "execution_count": null,
   "metadata": {},
   "outputs": [],
   "source": []
  },
  {
   "cell_type": "code",
   "execution_count": 5,
   "metadata": {},
   "outputs": [],
   "source": [
    "def remove_stopwords(x):\n",
    "    return(' '.join([word for word in nltk.word_tokenize(x) if word not in stopwords.words('english')]))\n",
    "\n",
    "def get_char_length_ratio(x): #To find how much word has meaningful content\n",
    "    return len(x['tweet'])/max(1,len(x['tweet_without_stop_words']))\n",
    "\n",
    "def get_Levenshtein(string1,string2): # Calculate Levenshtein distance to measure similiarity between string(edit base)\n",
    "    import editdistance\n",
    "    return editdistance.eval(string1,string2)"
   ]
  },
  {
   "cell_type": "code",
   "execution_count": 6,
   "metadata": {},
   "outputs": [],
   "source": [
    "df1['tweet_without_stop_words'] = df1['tweet'].map(lambda x : remove_stopwords(x))\n",
    "df1['char_length_ratio'] = df1.apply(lambda x : get_char_length_ratio(x), axis = 1)\n",
    "df1['leve_distance'] = df1.apply(lambda x : get_Levenshtein(x['tweet'], x['tweet_without_stop_words']), axis = 1)"
   ]
  },
  {
   "cell_type": "code",
   "execution_count": 7,
   "metadata": {},
   "outputs": [],
   "source": [
    "## Lexicon model based rating:-\n",
    "from nltk.corpus import opinion_lexicon\n",
    "pos_list = set(opinion_lexicon.positive())\n",
    "neg_list = set(opinion_lexicon.negative())\n",
    "\n",
    "sentiment = []\n",
    "for x in df1['tweet_without_stop_words']:\n",
    "    marks = 0\n",
    "    for j in nltk.word_tokenize(x):\n",
    "        if j in pos_list:\n",
    "            marks += 1\n",
    "        elif j in neg_list:\n",
    "            marks -= 1\n",
    "    sentiment.append(marks)\n",
    "df1['lexicon_rating'] = sentiment"
   ]
  },
  {
   "cell_type": "markdown",
   "metadata": {},
   "source": [
    "#### 1. Char langth ratio is imp, 1 contain high langth ratio distribution"
   ]
  },
  {
   "cell_type": "code",
   "execution_count": 8,
   "metadata": {},
   "outputs": [
    {
     "data": {
      "image/png": "[encoded data removed]",
      "text/plain": [
       "<Figure size 432x288 with 1 Axes>"
      ]
     },
     "metadata": {
      "needs_background": "light"
     },
     "output_type": "display_data"
    }
   ],
   "source": [
    "var = plt.hist(df1[df1['label'] == 1]['char_length_ratio'])"
   ]
  },
  {
   "cell_type": "code",
   "execution_count": 9,
   "metadata": {},
   "outputs": [
    {
     "data": {
      "image/png": "[encoded data removed]",
      "text/plain": [
       "<Figure size 432x288 with 1 Axes>"
      ]
     },
     "metadata": {
      "needs_background": "light"
     },
     "output_type": "display_data"
    }
   ],
   "source": [
    "var = plt.hist(df1[df1['label'] == 0]['char_length_ratio'])"
   ]
  },
  {
   "cell_type": "markdown",
   "metadata": {},
   "source": [
    "#### 2. Levenshte distance plot"
   ]
  },
  {
   "cell_type": "code",
   "execution_count": null,
   "metadata": {},
   "outputs": [],
   "source": [
    "var = plt.hist(df1[df1['label'] == 1]['leve_distance'])"
   ]
  },
  {
   "cell_type": "code",
   "execution_count": null,
   "metadata": {},
   "outputs": [],
   "source": [
    "var = plt.hist(df1[df1['label'] == 0]['leve_distance'])"
   ]
  },
  {
   "cell_type": "code",
   "execution_count": 10,
   "metadata": {},
   "outputs": [
    {
     "data": {
      "text/html": [
       "<div>\n",
       "<style scoped>\n",
       "    .dataframe tbody tr th:only-of-type {\n",
       "        vertical-align: middle;\n",
       "    }\n",
       "\n",
       "    .dataframe tbody tr th {\n",
       "        vertical-align: top;\n",
       "    }\n",
       "\n",
       "    .dataframe thead th {\n",
       "        text-align: right;\n",
       "    }\n",
       "</style>\n",
       "<table border=\"1\" class=\"dataframe\">\n",
       "  <thead>\n",
       "    <tr style=\"text-align: right;\">\n",
       "      <th></th>\n",
       "      <th>label</th>\n",
       "      <th>tweet</th>\n",
       "      <th>tweet_without_stop_words</th>\n",
       "      <th>char_length_ratio</th>\n",
       "      <th>leve_distance</th>\n",
       "      <th>lexicon_rating</th>\n",
       "    </tr>\n",
       "  </thead>\n",
       "  <tbody>\n",
       "    <tr>\n",
       "      <td>0</td>\n",
       "      <td>0</td>\n",
       "      <td>fingerprint pregnancy test android apps beayou...</td>\n",
       "      <td>fingerprint pregnancy test android apps beayou...</td>\n",
       "      <td>1.000000</td>\n",
       "      <td>0</td>\n",
       "      <td>0</td>\n",
       "    </tr>\n",
       "    <tr>\n",
       "      <td>1</td>\n",
       "      <td>0</td>\n",
       "      <td>finally a transparant silicon case thanks to m...</td>\n",
       "      <td>finally transparant silicon case thanks youncl...</td>\n",
       "      <td>1.131579</td>\n",
       "      <td>10</td>\n",
       "      <td>1</td>\n",
       "    </tr>\n",
       "    <tr>\n",
       "      <td>2</td>\n",
       "      <td>0</td>\n",
       "      <td>we love this woyould yoyou go talk makememorie...</td>\n",
       "      <td>love woyould yoyou go talk makememories younpl...</td>\n",
       "      <td>1.091954</td>\n",
       "      <td>8</td>\n",
       "      <td>1</td>\n",
       "    </tr>\n",
       "  </tbody>\n",
       "</table>\n",
       "</div>"
      ],
      "text/plain": [
       "   label                                              tweet  \\\n",
       "0      0  fingerprint pregnancy test android apps beayou...   \n",
       "1      0  finally a transparant silicon case thanks to m...   \n",
       "2      0  we love this woyould yoyou go talk makememorie...   \n",
       "\n",
       "                            tweet_without_stop_words  char_length_ratio  \\\n",
       "0  fingerprint pregnancy test android apps beayou...           1.000000   \n",
       "1  finally transparant silicon case thanks youncl...           1.131579   \n",
       "2  love woyould yoyou go talk makememories younpl...           1.091954   \n",
       "\n",
       "   leve_distance  lexicon_rating  \n",
       "0              0               0  \n",
       "1             10               1  \n",
       "2              8               1  "
      ]
     },
     "execution_count": 10,
     "metadata": {},
     "output_type": "execute_result"
    }
   ],
   "source": [
    "df1.head(3)"
   ]
  },
  {
   "cell_type": "code",
   "execution_count": 11,
   "metadata": {},
   "outputs": [
    {
     "data": {
      "text/plain": [
       "<4000x2184 sparse matrix of type '<class 'numpy.float64'>'\n",
       "\twith 33817 stored elements in Compressed Sparse Row format>"
      ]
     },
     "execution_count": 11,
     "metadata": {},
     "output_type": "execute_result"
    }
   ],
   "source": [
    "tfidf = TfidfVectorizer(stop_words = 'english', max_df = 0.99, strip_accents = 'unicode', ngram_range=(1, 1), min_df = 3) \n",
    "temp = tfidf.fit_transform(df1['tweet'])\n",
    "temp"
   ]
  },
  {
   "cell_type": "code",
   "execution_count": 12,
   "metadata": {},
   "outputs": [
    {
     "data": {
      "text/html": [
       "<div>\n",
       "<style scoped>\n",
       "    .dataframe tbody tr th:only-of-type {\n",
       "        vertical-align: middle;\n",
       "    }\n",
       "\n",
       "    .dataframe tbody tr th {\n",
       "        vertical-align: top;\n",
       "    }\n",
       "\n",
       "    .dataframe thead th {\n",
       "        text-align: right;\n",
       "    }\n",
       "</style>\n",
       "<table border=\"1\" class=\"dataframe\">\n",
       "  <thead>\n",
       "    <tr style=\"text-align: right;\">\n",
       "      <th></th>\n",
       "      <th>0</th>\n",
       "      <th>1</th>\n",
       "      <th>2</th>\n",
       "      <th>3</th>\n",
       "      <th>4</th>\n",
       "      <th>5</th>\n",
       "      <th>6</th>\n",
       "      <th>7</th>\n",
       "      <th>8</th>\n",
       "      <th>9</th>\n",
       "      <th>...</th>\n",
       "      <th>2178</th>\n",
       "      <th>2179</th>\n",
       "      <th>2180</th>\n",
       "      <th>2181</th>\n",
       "      <th>2182</th>\n",
       "      <th>2183</th>\n",
       "      <th>char_length_ratio</th>\n",
       "      <th>leve_distance</th>\n",
       "      <th>lexicon_rating</th>\n",
       "      <th>label</th>\n",
       "    </tr>\n",
       "  </thead>\n",
       "  <tbody>\n",
       "    <tr>\n",
       "      <td>0</td>\n",
       "      <td>0.0</td>\n",
       "      <td>0.0</td>\n",
       "      <td>0.0</td>\n",
       "      <td>0.0</td>\n",
       "      <td>0.0</td>\n",
       "      <td>0.0</td>\n",
       "      <td>0.0</td>\n",
       "      <td>0.0</td>\n",
       "      <td>0.0</td>\n",
       "      <td>0.0</td>\n",
       "      <td>...</td>\n",
       "      <td>0.0</td>\n",
       "      <td>0.0</td>\n",
       "      <td>0.0</td>\n",
       "      <td>0.0</td>\n",
       "      <td>0.0</td>\n",
       "      <td>0.0</td>\n",
       "      <td>1.000000</td>\n",
       "      <td>0</td>\n",
       "      <td>0</td>\n",
       "      <td>0</td>\n",
       "    </tr>\n",
       "    <tr>\n",
       "      <td>1</td>\n",
       "      <td>0.0</td>\n",
       "      <td>0.0</td>\n",
       "      <td>0.0</td>\n",
       "      <td>0.0</td>\n",
       "      <td>0.0</td>\n",
       "      <td>0.0</td>\n",
       "      <td>0.0</td>\n",
       "      <td>0.0</td>\n",
       "      <td>0.0</td>\n",
       "      <td>0.0</td>\n",
       "      <td>...</td>\n",
       "      <td>0.0</td>\n",
       "      <td>0.0</td>\n",
       "      <td>0.0</td>\n",
       "      <td>0.0</td>\n",
       "      <td>0.0</td>\n",
       "      <td>0.0</td>\n",
       "      <td>1.131579</td>\n",
       "      <td>10</td>\n",
       "      <td>1</td>\n",
       "      <td>0</td>\n",
       "    </tr>\n",
       "    <tr>\n",
       "      <td>2</td>\n",
       "      <td>0.0</td>\n",
       "      <td>0.0</td>\n",
       "      <td>0.0</td>\n",
       "      <td>0.0</td>\n",
       "      <td>0.0</td>\n",
       "      <td>0.0</td>\n",
       "      <td>0.0</td>\n",
       "      <td>0.0</td>\n",
       "      <td>0.0</td>\n",
       "      <td>0.0</td>\n",
       "      <td>...</td>\n",
       "      <td>0.0</td>\n",
       "      <td>0.0</td>\n",
       "      <td>0.0</td>\n",
       "      <td>0.0</td>\n",
       "      <td>0.0</td>\n",
       "      <td>0.0</td>\n",
       "      <td>1.091954</td>\n",
       "      <td>8</td>\n",
       "      <td>1</td>\n",
       "      <td>0</td>\n",
       "    </tr>\n",
       "  </tbody>\n",
       "</table>\n",
       "<p>3 rows × 2188 columns</p>\n",
       "</div>"
      ],
      "text/plain": [
       "     0    1    2    3    4    5    6    7    8    9  ...  2178  2179  2180  \\\n",
       "0  0.0  0.0  0.0  0.0  0.0  0.0  0.0  0.0  0.0  0.0  ...   0.0   0.0   0.0   \n",
       "1  0.0  0.0  0.0  0.0  0.0  0.0  0.0  0.0  0.0  0.0  ...   0.0   0.0   0.0   \n",
       "2  0.0  0.0  0.0  0.0  0.0  0.0  0.0  0.0  0.0  0.0  ...   0.0   0.0   0.0   \n",
       "\n",
       "   2181  2182  2183  char_length_ratio  leve_distance  lexicon_rating  label  \n",
       "0   0.0   0.0   0.0           1.000000              0               0      0  \n",
       "1   0.0   0.0   0.0           1.131579             10               1      0  \n",
       "2   0.0   0.0   0.0           1.091954              8               1      0  \n",
       "\n",
       "[3 rows x 2188 columns]"
      ]
     },
     "execution_count": 12,
     "metadata": {},
     "output_type": "execute_result"
    }
   ],
   "source": [
    "df1_new = pd.DataFrame(temp.toarray())\n",
    "df1_new['char_length_ratio'] = df1['char_length_ratio']\n",
    "df1_new['leve_distance'] = df1['leve_distance']\n",
    "df1_new['lexicon_rating'] = df1['lexicon_rating']\n",
    "df1_new['label'] = df1['label']\n",
    "\n",
    "df1_new.head(3)"
   ]
  },
  {
   "cell_type": "code",
   "execution_count": 13,
   "metadata": {},
   "outputs": [
    {
     "data": {
      "text/plain": [
       "(4000, 2188)"
      ]
     },
     "execution_count": 13,
     "metadata": {},
     "output_type": "execute_result"
    }
   ],
   "source": [
    "df1_new.shape"
   ]
  },
  {
   "cell_type": "code",
   "execution_count": 14,
   "metadata": {},
   "outputs": [],
   "source": [
    "x_dev, x_final, y_dev, y_final = train_test_split(df1_new.iloc[:,:-1], df1_new['label'], test_size = 0.1, random_state = 42)"
   ]
  },
  {
   "cell_type": "code",
   "execution_count": null,
   "metadata": {},
   "outputs": [],
   "source": []
  },
  {
   "cell_type": "code",
   "execution_count": 15,
   "metadata": {},
   "outputs": [
    {
     "data": {
      "text/plain": [
       "((2880, 2187), (2880,))"
      ]
     },
     "execution_count": 15,
     "metadata": {},
     "output_type": "execute_result"
    }
   ],
   "source": [
    "x_train, x_test, y_train, y_test = train_test_split(x_dev, y_dev, test_size = 0.2, random_state = 42)\n",
    "x_train.shape, y_train.shape"
   ]
  },
  {
   "cell_type": "code",
   "execution_count": 36,
   "metadata": {},
   "outputs": [
    {
     "data": {
      "text/plain": [
       "RandomForestClassifier(bootstrap=True, class_weight=None, criterion='entropy',\n",
       "                       max_depth=50, max_features='sqrt', max_leaf_nodes=None,\n",
       "                       min_impurity_decrease=0.0, min_impurity_split=None,\n",
       "                       min_samples_leaf=1, min_samples_split=2,\n",
       "                       min_weight_fraction_leaf=0.0, n_estimators=500,\n",
       "                       n_jobs=None, oob_score=True, random_state=42, verbose=0,\n",
       "                       warm_start=True)"
      ]
     },
     "execution_count": 36,
     "metadata": {},
     "output_type": "execute_result"
    }
   ],
   "source": [
    "model = RandomForestClassifier(bootstrap=True, class_weight=None, criterion='entropy',\n",
    "                       max_depth=50, max_features='sqrt', max_leaf_nodes=None,\n",
    "                       min_impurity_decrease=0.0, min_impurity_split=None,\n",
    "                       min_samples_leaf=1, min_samples_split=2,\n",
    "                       min_weight_fraction_leaf=0.0, n_estimators = 500,\n",
    "                       n_jobs=None, oob_score = True, random_state=42, verbose=0,\n",
    "                       warm_start= True)\n",
    "model"
   ]
  },
  {
   "cell_type": "code",
   "execution_count": 38,
   "metadata": {},
   "outputs": [
    {
     "name": "stderr",
     "output_type": "stream",
     "text": [
      "c:\\users\\anurag\\appdata\\local\\programs\\python\\python35-32\\lib\\site-packages\\sklearn\\ensemble\\forest.py:307: UserWarning: Warm-start fitting without increasing n_estimators does not fit new trees.\n",
      "  warn(\"Warm-start fitting without increasing n_estimators does not \"\n"
     ]
    },
    {
     "data": {
      "text/plain": [
       "0.7197802197802198"
      ]
     },
     "execution_count": 38,
     "metadata": {},
     "output_type": "execute_result"
    }
   ],
   "source": [
    "model.fit(x_train, y_train)\n",
    "pred = model.predict(x_test)\n",
    "\n",
    "y_pred = []\n",
    "for i in pred:\n",
    "    if i <= 0.5:\n",
    "        y_pred.append(0)\n",
    "    else:\n",
    "        y_pred.append(1)\n",
    "\n",
    "f1_score(y_test, np.array(y_pred).reshape(y_test.shape))\n",
    "#0.7297"
   ]
  },
  {
   "cell_type": "code",
   "execution_count": 19,
   "metadata": {},
   "outputs": [
    {
     "data": {
      "text/plain": [
       "array([[494,  42],\n",
       "       [ 59, 125]], dtype=int64)"
      ]
     },
     "execution_count": 19,
     "metadata": {},
     "output_type": "execute_result"
    }
   ],
   "source": [
    "confusion_matrix(y_test, y_pred)"
   ]
  },
  {
   "cell_type": "code",
   "execution_count": null,
   "metadata": {},
   "outputs": [],
   "source": [
    "##############################################################"
   ]
  },
  {
   "cell_type": "code",
   "execution_count": 21,
   "metadata": {},
   "outputs": [
    {
     "data": {
      "text/plain": [
       "array([[481,  55],\n",
       "       [ 53, 131]], dtype=int64)"
      ]
     },
     "execution_count": 21,
     "metadata": {},
     "output_type": "execute_result"
    }
   ],
   "source": [
    "model = RandomForestClassifier(bootstrap=True, class_weight=None, criterion='entropy',\n",
    "                       max_depth=50, max_features='sqrt', max_leaf_nodes=None,\n",
    "                       min_impurity_decrease=0.0, min_impurity_split=None,\n",
    "                       min_samples_leaf=1, min_samples_split=2,\n",
    "                       min_weight_fraction_leaf=0.0, n_estimators=410,\n",
    "                       n_jobs=None, oob_score=False, random_state=42, verbose=0,\n",
    "                       warm_start=False)\n",
    "0.7178082191780822\n",
    "[[494,  42],\n",
    "       [ 59, 125]],"
   ]
  },
  {
   "cell_type": "code",
   "execution_count": null,
   "metadata": {},
   "outputs": [],
   "source": [
    "#######################################################"
   ]
  },
  {
   "cell_type": "code",
   "execution_count": 40,
   "metadata": {},
   "outputs": [
    {
     "data": {
      "text/plain": [
       "0.7280701754385965"
      ]
     },
     "execution_count": 40,
     "metadata": {},
     "output_type": "execute_result"
    }
   ],
   "source": [
    "## MultiNaive Bayes:-\n",
    "from sklearn.naive_bayes import MultinomialNB\n",
    "model = MultinomialNB(alpha=.4)\n",
    "\n",
    "model.fit(x_train.iloc[:,:-1], y_train)\n",
    "pred = model.predict(x_test.iloc[:,:-1])\n",
    "\n",
    "y_pred = []\n",
    "for i in pred:\n",
    "    if i <= 0.5:\n",
    "        y_pred.append(0)\n",
    "    else:\n",
    "        y_pred.append(1)\n",
    "\n",
    "f1_score(y_test, np.array(y_pred).reshape(y_test.shape))\n",
    "#0.7297"
   ]
  },
  {
   "cell_type": "code",
   "execution_count": null,
   "metadata": {},
   "outputs": [],
   "source": []
  },
  {
   "cell_type": "code",
   "execution_count": null,
   "metadata": {},
   "outputs": [],
   "source": []
  },
  {
   "cell_type": "markdown",
   "metadata": {},
   "source": [
    "### Perameter Tuning:-"
   ]
  },
  {
   "cell_type": "code",
   "execution_count": 33,
   "metadata": {},
   "outputs": [
    {
     "name": "stdout",
     "output_type": "stream",
     "text": [
      "RandomForestClassifier(bootstrap=True, class_weight=None, criterion='entropy',\n",
      "                       max_depth=50, max_features='sqrt', max_leaf_nodes=None,\n",
      "                       min_impurity_decrease=0.0, min_impurity_split=None,\n",
      "                       min_samples_leaf=1, min_samples_split=2,\n",
      "                       min_weight_fraction_leaf=0.0, n_estimators=410,\n",
      "                       n_jobs=None, oob_score=False, random_state=42, verbose=0,\n",
      "                       warm_start=False)\n"
     ]
    }
   ],
   "source": [
    "from sklearn.metrics import make_scorer, f1_score\n",
    "from sklearn.model_selection import RandomizedSearchCV\n",
    "\n",
    "# Choose the type of classifier. \n",
    "model = RandomForestClassifier(random_state = 42)\n",
    "\n",
    "# Choose some parameter combinations to try\n",
    "# learning_rate = [0.2, 0.22, 0.25] #  \n",
    "criterion = ['entropy']\n",
    "# splitter = ['best', 'random']\n",
    "n_estimators = [350, 390, 410, 430, 450,471] # ,\n",
    "max_depth = [43, 45, 47, 50, 53, 60] #, \n",
    "max_features = ['sqrt'] # \n",
    "# min_samples_leaf = [11,13,15,17]\n",
    "# max_leaf_nodes = [5, 6, 7]\n",
    "parameters = {'criterion' : criterion,  'n_estimators' : n_estimators,\n",
    "             'max_depth': max_depth, 'max_features' : max_features }\n",
    "               \n",
    "\n",
    "# bootstrap=True, class_weight=None, criterion='entropy',\n",
    "#                        max_depth=15, max_features='auto', max_leaf_nodes=None,\n",
    "#                        min_impurity_decrease=0.0, min_impurity_split=None,\n",
    "#                        min_samples_leaf=1, min_samples_split=2,\n",
    "#                        min_weight_fraction_leaf=0.0, n_estimators=200,\n",
    "#                        n_jobs=None, oob_score=False, random_state=42, verbose=0,\n",
    "#                        warm_start=False\n",
    "\n",
    "# Type of scoring used to compare parameter combinations\n",
    "acc_scorer = make_scorer(f1_score, greater_is_better=True)\n",
    "\n",
    "# Run the grid search\n",
    "grid_obj = RandomizedSearchCV(estimator = model, param_distributions = parameters, scoring = acc_scorer, cv = 3)\n",
    "grid_obj = grid_obj.fit(x_train, y_train)\n",
    "\n",
    "# Set the clf to the best combination of parameters\n",
    "model = grid_obj.best_estimator_\n",
    "\n",
    "# # Fit the best algorithm to the data. \n",
    "model.fit(x_train, y_train)\n",
    "print(model)\n",
    "# print()\n",
    "pred = model.predict(x_test)\n",
    "# # print(model.score(x_train, y_train))\n",
    "# # print(model.score(x_test, y_test))\n",
    "# # print(model.feature_importances_)\n",
    "# # print(np.sqrt(metrics.mean_squared_error(y_test, pred)))"
   ]
  },
  {
   "cell_type": "code",
   "execution_count": 35,
   "metadata": {},
   "outputs": [
    {
     "data": {
      "text/plain": [
       "0.7178082191780822"
      ]
     },
     "execution_count": 35,
     "metadata": {},
     "output_type": "execute_result"
    }
   ],
   "source": [
    "# model.fit(x_train, y_train)\n",
    "# pred = model.predict(x_test)\n",
    "\n",
    "y_pred = []\n",
    "for i in pred:\n",
    "    if i <= 0.5:\n",
    "        y_pred.append(0)\n",
    "    else:\n",
    "        y_pred.append(1)\n",
    "\n",
    "f1_score(y_test, np.array(y_pred).reshape(y_test.shape))"
   ]
  },
  {
   "cell_type": "code",
   "execution_count": 29,
   "metadata": {},
   "outputs": [
    {
     "data": {
      "text/plain": [
       "RandomForestClassifier(bootstrap=True, class_weight=None, criterion='gini',\n",
       "                       max_depth=45, max_features='sqrt', max_leaf_nodes=None,\n",
       "                       min_impurity_decrease=0.0, min_impurity_split=None,\n",
       "                       min_samples_leaf=1, min_samples_split=2,\n",
       "                       min_weight_fraction_leaf=0.0, n_estimators=350,\n",
       "                       n_jobs=None, oob_score=False, random_state=42, verbose=0,\n",
       "                       warm_start=False)"
      ]
     },
     "execution_count": 29,
     "metadata": {},
     "output_type": "execute_result"
    }
   ],
   "source": [
    "bootstrap=True, class_weight=None, criterion='entropy',\n",
    "                       max_depth=50, max_features='sqrt', max_leaf_nodes=None,\n",
    "                       min_impurity_decrease=0.0, min_impurity_split=None,\n",
    "                       min_samples_leaf=1, min_samples_split=2,\n",
    "                       min_weight_fraction_leaf=0.0, n_estimators=410,\n",
    "                       n_jobs=None, oob_score=False, random_state=42, verbose=0,\n",
    "                       warm_start=False)\n",
    "    0.71780821"
   ]
  },
  {
   "cell_type": "code",
   "execution_count": null,
   "metadata": {},
   "outputs": [],
   "source": []
  },
  {
   "cell_type": "code",
   "execution_count": 23,
   "metadata": {},
   "outputs": [],
   "source": [
    "##########################################################################################################"
   ]
  },
  {
   "cell_type": "markdown",
   "metadata": {},
   "source": [
    "### Test Data:-"
   ]
  },
  {
   "cell_type": "code",
   "execution_count": 3,
   "metadata": {},
   "outputs": [
    {
     "data": {
      "text/plain": [
       "(1953, 1)"
      ]
     },
     "execution_count": 3,
     "metadata": {},
     "output_type": "execute_result"
    }
   ],
   "source": [
    "df_test = pd.read_csv('test_sentiment-analytic.csv')\n",
    "id_ = df_test['id']\n",
    "df_test.drop('id', axis = 1, inplace = True)\n",
    "df_test.shape"
   ]
  },
  {
   "cell_type": "code",
   "execution_count": 21,
   "metadata": {},
   "outputs": [
    {
     "data": {
      "text/plain": [
       "2187"
      ]
     },
     "execution_count": 21,
     "metadata": {},
     "output_type": "execute_result"
    }
   ],
   "source": [
    "2187"
   ]
  },
  {
   "cell_type": "code",
   "execution_count": 22,
   "metadata": {},
   "outputs": [],
   "source": [
    "def punch(x):\n",
    "    x = re.sub(r\"[-()\\\"#/@;:@*<>{}`ð'+=~£|¦â.!%+-^$?,0-9]\",\"\", x)\n",
    "    x = re.sub('$&@*#', 'vulgar', x) # Mention in data \n",
    "    x = re.sub(r\"(\\d+)(k)\", r\"\\g<1>000\", x) #expand 'k' to '000' eg. 50k to 50000\n",
    "    x = re.sub(\"\\\\n\", ' ', x)\n",
    "    x = re.sub(\"\\W\", ' ', x)\n",
    "    x = re.sub(\"\\'s\", \" \", x) \n",
    "    x = re.sub(\"whats\", \"what is\", x, flags=re.IGNORECASE)\n",
    "    x = re.sub(\"\\'ve\", \"have\", x)\n",
    "    x = re.sub(\"can't\", \"can not\", x)\n",
    "    x = re.sub(\"n't\", \"not\", x)\n",
    "    x = re.sub(\"i'm\", \"i am\", x, flags = re.IGNORECASE)\n",
    "    x = re.sub(\"\\'re\", \"are\", x)\n",
    "    x = re.sub(\"\\'d\", \"would\", x)\n",
    "    x = re.sub(r\"http\\S+\", \"\", str(x))\n",
    "    x = re.sub(\"e\\.g\\.\", \"eg\", x, flags = re.IGNORECASE)\n",
    "    x = re.sub(\"e-mail\", \"email\", x, flags = re.IGNORECASE)\n",
    "    x = re.sub(r\"e - mail\", \"email\", x)\n",
    "    x = re.sub(r\"US\", \"America\", x)\n",
    "    x = re.sub(r\"USA\", \"America\", x)\n",
    "    x = re.sub(r\"us\", \"America\", x)\n",
    "    x = re.sub(r\"usa\", \"America\", x)\n",
    "    x = re.sub(r\"Chinese\", \"China\", x)\n",
    "    x = re.sub(r\"india\", \"India\", x)\n",
    "    x = re.sub(\"im\", \"i am\", x, flags = re.IGNORECASE)\n",
    "    x = re.sub(\"its\", \"it is\", x, flags= re.IGNORECASE)\n",
    "    x = re.sub(\"shes\", \"she is\", x, flags = re.IGNORECASE)\n",
    "    x = re.sub(\"u\", \"you\", x, flags = re.IGNORECASE)\n",
    "    x = re.sub(\"ur\", \"you are\", x, flags = re.IGNORECASE)\n",
    "    x = re.sub(\"wouldnt\", \"would not\", x, flags = re.IGNORECASE)\n",
    "    x = re.sub(\"youve\",  \"you have\", x, flags = re.IGNORECASE)\n",
    "    x = re.sub(r\"\\s{2,}\", \" \", x) # Remove extra space between words\n",
    "    x = x.strip() # Remove extra space from begning and ending\n",
    "    \n",
    "    return(x)\n",
    "\n",
    "def remove_stopwords(x):\n",
    "    return(' '.join([word for word in nltk.word_tokenize(x) if word not in stopwords.words('english')]))\n",
    "\n",
    "def get_char_length_ratio(x): #To find how much word has meaningful content\n",
    "    return len(x['tweet'])/max(1,len(x['tweet_without_stop_words']))\n",
    "\n",
    "def get_Levenshtein(string1,string2): # Calculate Levenshtein distance to measure similiarity between string(edit base)\n",
    "    import editdistance\n",
    "    return editdistance.eval(string1,string2)\n",
    "\n",
    "############################################################\n",
    "df_test['tweet'] = df_test['tweet'].map(lambda x : punch(x))\n",
    "df_test['tweet_without_stop_words'] = df_test['tweet'].map(lambda x : remove_stopwords(x))\n",
    "df_test['char_length_ratio'] = df_test.apply(lambda x : get_char_length_ratio(x), axis = 1)\n",
    "df_test['leve_distance'] = df_test.apply(lambda x : get_Levenshtein(x['tweet'], x['tweet_without_stop_words']), axis = 1)\n",
    "\n",
    "## Lexicon model based rating:-\n",
    "from nltk.corpus import opinion_lexicon\n",
    "pos_list = set(opinion_lexicon.positive())\n",
    "neg_list = set(opinion_lexicon.negative())\n",
    "\n",
    "sentiment = []\n",
    "for x in df_test['tweet_without_stop_words']:\n",
    "    marks = 0\n",
    "    for j in nltk.word_tokenize(x):\n",
    "        if j in pos_list:\n",
    "            marks += 1\n",
    "        elif j in neg_list:\n",
    "            marks -= 1\n",
    "    sentiment.append(marks)\n",
    "df_test['lexicon_rating'] = sentiment\n",
    "##############################################################\n",
    "\n",
    "tfidf = TfidfVectorizer(stop_words = 'english', max_df = 0.99, strip_accents = 'unicode', ngram_range=(1, 1), min_df = 3) \n",
    "temp = tfidf.fit_transform(df_test['tweet'])\n",
    "\n",
    "df1_new = pd.DataFrame(temp.toarray())\n",
    "df1_new['char_length_ratio'] = df_test['char_length_ratio']\n",
    "df1_new['leve_distance'] = df_test['leve_distance']\n",
    "df1_new['lexicon_rating'] = df_test['lexicon_rating']\n",
    "# df1_new['label'] = df_test['label']\n",
    "\n",
    "# model.fit(x_train, y_train)\n",
    "\n",
    "\n",
    "# f1_score(y_test, np.array(y_pred).reshape(y_test.shape))"
   ]
  },
  {
   "cell_type": "code",
   "execution_count": 21,
   "metadata": {},
   "outputs": [
    {
     "data": {
      "text/plain": [
       "(1953, 1314)"
      ]
     },
     "execution_count": 21,
     "metadata": {},
     "output_type": "execute_result"
    }
   ],
   "source": [
    "df1_new.shape"
   ]
  },
  {
   "cell_type": "code",
   "execution_count": 26,
   "metadata": {},
   "outputs": [
    {
     "data": {
      "text/plain": [
       "872"
      ]
     },
     "execution_count": 26,
     "metadata": {},
     "output_type": "execute_result"
    }
   ],
   "source": [
    "2186-1314"
   ]
  },
  {
   "cell_type": "code",
   "execution_count": 27,
   "metadata": {},
   "outputs": [
    {
     "data": {
      "text/plain": [
       "array([0, 0, 0, ..., 0, 0, 0], dtype=int64)"
      ]
     },
     "execution_count": 27,
     "metadata": {},
     "output_type": "execute_result"
    }
   ],
   "source": [
    "pred = model.predict(np.concatenate([np.concatenate([df1_new.iloc[:,:1315].values, np.zeros((1953, 869), dtype = np.float)],axis = 1), df1_new.iloc[:, -3:]], axis = 1))\n",
    "pred"
   ]
  },
  {
   "cell_type": "code",
   "execution_count": null,
   "metadata": {},
   "outputs": [],
   "source": [
    "y_pred = []\n",
    "for i in pred:\n",
    "    if i <= 0.5:\n",
    "        y_pred.append(0)\n",
    "    else:\n",
    "        y_pred.append(1)"
   ]
  },
  {
   "cell_type": "code",
   "execution_count": 28,
   "metadata": {},
   "outputs": [],
   "source": [
    "result = pd.DataFrame({'id':id_})\n",
    "result['label'] = y_pred\n",
    "result.to_csv('result3_test_analytic.csv', index = False)"
   ]
  },
  {
   "cell_type": "code",
   "execution_count": 7,
   "metadata": {},
   "outputs": [
    {
     "data": {
      "text/html": [
       "<div>\n",
       "<style scoped>\n",
       "    .dataframe tbody tr th:only-of-type {\n",
       "        vertical-align: middle;\n",
       "    }\n",
       "\n",
       "    .dataframe tbody tr th {\n",
       "        vertical-align: top;\n",
       "    }\n",
       "\n",
       "    .dataframe thead th {\n",
       "        text-align: right;\n",
       "    }\n",
       "</style>\n",
       "<table border=\"1\" class=\"dataframe\">\n",
       "  <thead>\n",
       "    <tr style=\"text-align: right;\">\n",
       "      <th></th>\n",
       "      <th>id</th>\n",
       "      <th>label</th>\n",
       "    </tr>\n",
       "  </thead>\n",
       "  <tbody>\n",
       "    <tr>\n",
       "      <td>0</td>\n",
       "      <td>7921</td>\n",
       "      <td>0</td>\n",
       "    </tr>\n",
       "    <tr>\n",
       "      <td>1</td>\n",
       "      <td>7922</td>\n",
       "      <td>0</td>\n",
       "    </tr>\n",
       "    <tr>\n",
       "      <td>2</td>\n",
       "      <td>7923</td>\n",
       "      <td>0</td>\n",
       "    </tr>\n",
       "    <tr>\n",
       "      <td>3</td>\n",
       "      <td>7924</td>\n",
       "      <td>1</td>\n",
       "    </tr>\n",
       "    <tr>\n",
       "      <td>4</td>\n",
       "      <td>7925</td>\n",
       "      <td>0</td>\n",
       "    </tr>\n",
       "    <tr>\n",
       "      <td>...</td>\n",
       "      <td>...</td>\n",
       "      <td>...</td>\n",
       "    </tr>\n",
       "    <tr>\n",
       "      <td>1948</td>\n",
       "      <td>9869</td>\n",
       "      <td>0</td>\n",
       "    </tr>\n",
       "    <tr>\n",
       "      <td>1949</td>\n",
       "      <td>9870</td>\n",
       "      <td>0</td>\n",
       "    </tr>\n",
       "    <tr>\n",
       "      <td>1950</td>\n",
       "      <td>9871</td>\n",
       "      <td>0</td>\n",
       "    </tr>\n",
       "    <tr>\n",
       "      <td>1951</td>\n",
       "      <td>9872</td>\n",
       "      <td>0</td>\n",
       "    </tr>\n",
       "    <tr>\n",
       "      <td>1952</td>\n",
       "      <td>9873</td>\n",
       "      <td>0</td>\n",
       "    </tr>\n",
       "  </tbody>\n",
       "</table>\n",
       "<p>1953 rows × 2 columns</p>\n",
       "</div>"
      ],
      "text/plain": [
       "        id  label\n",
       "0     7921      0\n",
       "1     7922      0\n",
       "2     7923      0\n",
       "3     7924      1\n",
       "4     7925      0\n",
       "...    ...    ...\n",
       "1948  9869      0\n",
       "1949  9870      0\n",
       "1950  9871      0\n",
       "1951  9872      0\n",
       "1952  9873      0\n",
       "\n",
       "[1953 rows x 2 columns]"
      ]
     },
     "execution_count": 7,
     "metadata": {},
     "output_type": "execute_result"
    }
   ],
   "source": [
    "pd.read_csv('C:\\\\Users\\Anurag\\Downloads\\\\result4_test_analytic.csv')"
   ]
  },
  {
   "cell_type": "code",
   "execution_count": 6,
   "metadata": {},
   "outputs": [
    {
     "data": {
      "text/html": [
       "<div>\n",
       "<style scoped>\n",
       "    .dataframe tbody tr th:only-of-type {\n",
       "        vertical-align: middle;\n",
       "    }\n",
       "\n",
       "    .dataframe tbody tr th {\n",
       "        vertical-align: top;\n",
       "    }\n",
       "\n",
       "    .dataframe thead th {\n",
       "        text-align: right;\n",
       "    }\n",
       "</style>\n",
       "<table border=\"1\" class=\"dataframe\">\n",
       "  <thead>\n",
       "    <tr style=\"text-align: right;\">\n",
       "      <th></th>\n",
       "      <th>id</th>\n",
       "      <th>tweet</th>\n",
       "    </tr>\n",
       "  </thead>\n",
       "  <tbody>\n",
       "    <tr>\n",
       "      <td>0</td>\n",
       "      <td>7921</td>\n",
       "      <td>I hate the new #iphone upgrade. Won't let me d...</td>\n",
       "    </tr>\n",
       "    <tr>\n",
       "      <td>1</td>\n",
       "      <td>7922</td>\n",
       "      <td>currently shitting my fucking pants. #apple #i...</td>\n",
       "    </tr>\n",
       "    <tr>\n",
       "      <td>2</td>\n",
       "      <td>7923</td>\n",
       "      <td>I'd like to puts some CD-ROMS on my iPad, is t...</td>\n",
       "    </tr>\n",
       "    <tr>\n",
       "      <td>3</td>\n",
       "      <td>7924</td>\n",
       "      <td>My ipod is officially dead. I lost all my pict...</td>\n",
       "    </tr>\n",
       "    <tr>\n",
       "      <td>4</td>\n",
       "      <td>7925</td>\n",
       "      <td>Been fighting iTunes all night! I only want th...</td>\n",
       "    </tr>\n",
       "    <tr>\n",
       "      <td>...</td>\n",
       "      <td>...</td>\n",
       "      <td>...</td>\n",
       "    </tr>\n",
       "    <tr>\n",
       "      <td>1948</td>\n",
       "      <td>9869</td>\n",
       "      <td>#SamsungGalaxyNote7 Explodes, Burns 6-Year-Old...</td>\n",
       "    </tr>\n",
       "    <tr>\n",
       "      <td>1949</td>\n",
       "      <td>9870</td>\n",
       "      <td>Now Available - Hoodie. Check it out here - ht...</td>\n",
       "    </tr>\n",
       "    <tr>\n",
       "      <td>1950</td>\n",
       "      <td>9871</td>\n",
       "      <td>There goes a crack right across the screen. If...</td>\n",
       "    </tr>\n",
       "    <tr>\n",
       "      <td>1951</td>\n",
       "      <td>9872</td>\n",
       "      <td>@codeofinterest as i said #Adobe big time we m...</td>\n",
       "    </tr>\n",
       "    <tr>\n",
       "      <td>1952</td>\n",
       "      <td>9873</td>\n",
       "      <td>Finally I got it .. thanx my father .. #Samsun...</td>\n",
       "    </tr>\n",
       "  </tbody>\n",
       "</table>\n",
       "<p>1953 rows × 2 columns</p>\n",
       "</div>"
      ],
      "text/plain": [
       "        id                                              tweet\n",
       "0     7921  I hate the new #iphone upgrade. Won't let me d...\n",
       "1     7922  currently shitting my fucking pants. #apple #i...\n",
       "2     7923  I'd like to puts some CD-ROMS on my iPad, is t...\n",
       "3     7924  My ipod is officially dead. I lost all my pict...\n",
       "4     7925  Been fighting iTunes all night! I only want th...\n",
       "...    ...                                                ...\n",
       "1948  9869  #SamsungGalaxyNote7 Explodes, Burns 6-Year-Old...\n",
       "1949  9870  Now Available - Hoodie. Check it out here - ht...\n",
       "1950  9871  There goes a crack right across the screen. If...\n",
       "1951  9872  @codeofinterest as i said #Adobe big time we m...\n",
       "1952  9873  Finally I got it .. thanx my father .. #Samsun...\n",
       "\n",
       "[1953 rows x 2 columns]"
      ]
     },
     "execution_count": 6,
     "metadata": {},
     "output_type": "execute_result"
    }
   ],
   "source": [
    "pd.read_csv('test_sentiment-analytic.csv')"
   ]
  },
  {
   "cell_type": "code",
   "execution_count": null,
   "metadata": {},
   "outputs": [],
   "source": []
  },
  {
   "cell_type": "code",
   "execution_count": null,
   "metadata": {},
   "outputs": [],
   "source": []
  },
  {
   "cell_type": "code",
   "execution_count": null,
   "metadata": {},
   "outputs": [],
   "source": []
  },
  {
   "cell_type": "code",
   "execution_count": null,
   "metadata": {},
   "outputs": [],
   "source": []
  },
  {
   "cell_type": "code",
   "execution_count": null,
   "metadata": {},
   "outputs": [],
   "source": []
  },
  {
   "cell_type": "code",
   "execution_count": null,
   "metadata": {},
   "outputs": [],
   "source": []
  },
  {
   "cell_type": "code",
   "execution_count": null,
   "metadata": {},
   "outputs": [],
   "source": []
  },
  {
   "cell_type": "code",
   "execution_count": null,
   "metadata": {},
   "outputs": [],
   "source": []
  },
  {
   "cell_type": "code",
   "execution_count": null,
   "metadata": {},
   "outputs": [],
   "source": []
  },
  {
   "cell_type": "code",
   "execution_count": null,
   "metadata": {},
   "outputs": [],
   "source": []
  },
  {
   "cell_type": "code",
   "execution_count": null,
   "metadata": {},
   "outputs": [],
   "source": []
  },
  {
   "cell_type": "code",
   "execution_count": null,
   "metadata": {},
   "outputs": [],
   "source": []
  },
  {
   "cell_type": "code",
   "execution_count": null,
   "metadata": {},
   "outputs": [],
   "source": []
  }
 ],
 "metadata": {
  "kernelspec": {
   "display_name": "Python 3",
   "language": "python",
   "name": "python3"
  },
  "language_info": {
   "codemirror_mode": {
    "name": "ipython",
    "version": 3
   },
   "file_extension": ".py",
   "mimetype": "text/x-python",
   "name": "python",
   "nbconvert_exporter": "python",
   "pygments_lexer": "ipython3",
   "version": "3.5.3"
  }
 },
 "nbformat": 4,
 "nbformat_minor": 2
}
